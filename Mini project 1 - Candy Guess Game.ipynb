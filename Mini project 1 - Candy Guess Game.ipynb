{
 "cells": [
  {
   "cell_type": "code",
   "execution_count": 1,
   "id": "4baf6568",
   "metadata": {},
   "outputs": [
    {
     "name": "stdout",
     "output_type": "stream",
     "text": [
      "**********************************************************************\n",
      "\t\t\tCandy Game\n",
      "**********************************************************************\n",
      "\n",
      "Enter your name : Ritesh Patil\n",
      "Hello Ritesh Patil, how are you.... :)\n",
      "\n",
      "************************************************************\n",
      "\n",
      "Enter your guess : 30\n",
      "A little bit lower.....\n",
      "-----------------------------------\n",
      "\n",
      "Enter your guess : 45\n",
      "A little bit higher.....\n",
      "-----------------------------------\n",
      "\n",
      "Enter your guess : 70\n",
      "A little bit higher.....\n",
      "-----------------------------------\n",
      "\n",
      "Enter your guess : 42\n",
      "\t\tHurreyyyy....,You won 42 candies, Enjoy it.\n",
      "\n",
      "************************************************************\n",
      "It was fun Ritesh Patil, to playing with you see you soon.\n"
     ]
    }
   ],
   "source": [
    "import random\n",
    "ds = \"-\"\n",
    "sep = \"*\"\n",
    "print(sep*70)\n",
    "print(\"\\t\\t\\tCandy Game\")\n",
    "print(sep*70)\n",
    "print()\n",
    "a = str(input(\"Enter your name : \"))\n",
    "n = a.title()\n",
    "print(\"Hello\",n+\", how are you.... :)\")\n",
    "print()\n",
    "print(sep*60)\n",
    "guess_count = 0\n",
    "guess_no = 0\n",
    "num = random.randint(40,55)\n",
    "while guess_no != num and guess_count<5:\n",
    "    print()\n",
    "    guess_no = int(input(\"Enter your guess : \"))\n",
    "    guess_count+=1\n",
    "    if guess_no > num:\n",
    "        print(\"A little bit higher.....\")\n",
    "        print(ds*35)\n",
    "    elif guess_no < num:\n",
    "        print(\"A little bit lower.....\")\n",
    "        print(ds*35)\n",
    "    else:\n",
    "        print(f\"\\t\\tHurreyyyy....,You won {guess_no} candies, Enjoy it.\")\n",
    "        print()\n",
    "\n",
    "if guess_count==5 and guess_no != num:\n",
    "    print(\"\\t\\tsorry you have run out of guesses..!!!!,Better luck next time.\")\n",
    "\n",
    "print(sep*60)\n",
    "print(\"It was fun\",n+\", to playing with you see you soon.\")"
   ]
  },
  {
   "cell_type": "code",
   "execution_count": null,
   "id": "6967211f",
   "metadata": {},
   "outputs": [],
   "source": []
  }
 ],
 "metadata": {
  "kernelspec": {
   "display_name": "Python 3 (ipykernel)",
   "language": "python",
   "name": "python3"
  },
  "language_info": {
   "codemirror_mode": {
    "name": "ipython",
    "version": 3
   },
   "file_extension": ".py",
   "mimetype": "text/x-python",
   "name": "python",
   "nbconvert_exporter": "python",
   "pygments_lexer": "ipython3",
   "version": "3.10.5"
  }
 },
 "nbformat": 4,
 "nbformat_minor": 5
}
